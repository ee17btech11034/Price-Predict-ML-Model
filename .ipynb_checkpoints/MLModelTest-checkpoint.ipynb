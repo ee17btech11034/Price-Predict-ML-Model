{
 "cells": [
  {
   "cell_type": "code",
   "execution_count": 1,
   "id": "0cdba635",
   "metadata": {},
   "outputs": [],
   "source": [
    "from joblib import load\n",
    "import numpy as np\n",
    "model = load('MLpricePredictModel.joblib')"
   ]
  },
  {
   "cell_type": "code",
   "execution_count": 2,
   "id": "547859f2",
   "metadata": {},
   "outputs": [],
   "source": [
    "features = [[-5.4, 4.1, -1.6, -0.6, -1.4, -1.44, -99, 7.6,-26, -0.5, -0.9, 0.4, -0.87]]\n",
    "features_array = np.array(features)"
   ]
  },
  {
   "cell_type": "code",
   "execution_count": 3,
   "id": "6a1fb9ba",
   "metadata": {},
   "outputs": [
    {
     "name": "stdout",
     "output_type": "stream",
     "text": [
      "Price for these features house is:  [22.041]\n"
     ]
    }
   ],
   "source": [
    "price = model.predict(features_array)\n",
    "print(\"Price for these features house is: \", price)"
   ]
  }
 ],
 "metadata": {
  "kernelspec": {
   "display_name": "Python 3 (ipykernel)",
   "language": "python",
   "name": "python3"
  },
  "language_info": {
   "codemirror_mode": {
    "name": "ipython",
    "version": 3
   },
   "file_extension": ".py",
   "mimetype": "text/x-python",
   "name": "python",
   "nbconvert_exporter": "python",
   "pygments_lexer": "ipython3",
   "version": "3.10.5"
  }
 },
 "nbformat": 4,
 "nbformat_minor": 5
}

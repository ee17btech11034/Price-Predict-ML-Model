{
 "cells": [
  {
   "cell_type": "code",
   "execution_count": 1,
   "id": "0cdba635",
   "metadata": {},
   "outputs": [],
   "source": [
    "from joblib import load\n",
    "import numpy as np\n",
    "model = load('MLpricePredictModel.joblib')"
   ]
  },
  {
   "cell_type": "code",
   "execution_count": 2,
   "id": "547859f2",
   "metadata": {},
   "outputs": [],
   "source": [
    "# features = [[-5.4, 4.1, -1.6, -0.6, -1.4, -1.44, -99, 7.6,-26, -0.5, -0.9, 0.4, -0.87]]\n",
    "# features_array = np.array(features)"
   ]
  },
  {
   "cell_type": "code",
   "execution_count": 3,
   "id": "c454b8d8",
   "metadata": {},
   "outputs": [],
   "source": [
    "features = [[0.00632, 18, 2.31, 0, 0.538, 6.575, 65.2, 4.09, 1, 296, 15.3, 396.9, 4.98]]\n",
    "features_array = np.array(features)"
   ]
  },
  {
   "cell_type": "code",
   "execution_count": 4,
   "id": "6a1fb9ba",
   "metadata": {},
   "outputs": [
    {
     "name": "stdout",
     "output_type": "stream",
     "text": [
      "Price for these featured house is:  [22.579]\n"
     ]
    }
   ],
   "source": [
    "price = model.predict(features_array)\n",
    "print(\"Price for these featured house is: \", price)"
   ]
  },
  {
   "cell_type": "code",
   "execution_count": 5,
   "id": "83356e36",
   "metadata": {},
   "outputs": [
    {
     "name": "stdout",
     "output_type": "stream",
     "text": [
      "Price for these featured house is: 22579.0 USD.\n"
     ]
    }
   ],
   "source": [
    "print(\"Price for these featured house is:\", price[0]*1000, \"USD.\")"
   ]
  },
  {
   "cell_type": "code",
   "execution_count": null,
   "id": "c548373d",
   "metadata": {},
   "outputs": [],
   "source": []
  }
 ],
 "metadata": {
  "kernelspec": {
   "display_name": "Python 3 (ipykernel)",
   "language": "python",
   "name": "python3"
  },
  "language_info": {
   "codemirror_mode": {
    "name": "ipython",
    "version": 3
   },
   "file_extension": ".py",
   "mimetype": "text/x-python",
   "name": "python",
   "nbconvert_exporter": "python",
   "pygments_lexer": "ipython3",
   "version": "3.10.5"
  }
 },
 "nbformat": 4,
 "nbformat_minor": 5
}
